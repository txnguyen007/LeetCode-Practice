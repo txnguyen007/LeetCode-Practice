{
 "cells": [
  {
   "attachments": {},
   "cell_type": "markdown",
   "metadata": {},
   "source": [
    "#### Reverse Integer\n",
    "Given a signed 32-bit integer x, return x with its digits reversed. If reversing x causes the value to go outside the signed 32-bit integer range [-2^31, 2^31 - 1], then return 0\n"
   ]
  },
  {
   "cell_type": "code",
   "execution_count": 1,
   "metadata": {},
   "outputs": [],
   "source": [
    "def reverse(x: int) -> int:\n",
    "        if x < 0:\n",
    "            non_numeric = '-'\n",
    "        else:\n",
    "            non_numeric = ''\n",
    "        numeric_num = [i for i in str(x) if i.isnumeric()]\n",
    "        reversed_num = ''.join(numeric_num)\n",
    "        reversed_num = reversed_num[::-1]\n",
    "        res = non_numeric + reversed_num\n",
    "        if int(res) not in range(-2**31, 2**31-1):\n",
    "            return 0\n",
    "        else:\n",
    "            return int(res)"
   ]
  },
  {
   "cell_type": "code",
   "execution_count": 2,
   "metadata": {},
   "outputs": [
    {
     "name": "stdout",
     "output_type": "stream",
     "text": [
      "321\n"
     ]
    }
   ],
   "source": [
    "# Test 1\n",
    "x = 123\n",
    "print(reverse(x))"
   ]
  },
  {
   "cell_type": "code",
   "execution_count": 3,
   "metadata": {},
   "outputs": [
    {
     "name": "stdout",
     "output_type": "stream",
     "text": [
      "-321\n"
     ]
    }
   ],
   "source": [
    "# Test 2 \n",
    "x = -123\n",
    "print(reverse(x))\n"
   ]
  }
 ],
 "metadata": {
  "kernelspec": {
   "display_name": "Python 3",
   "language": "python",
   "name": "python3"
  },
  "language_info": {
   "codemirror_mode": {
    "name": "ipython",
    "version": 3
   },
   "file_extension": ".py",
   "mimetype": "text/x-python",
   "name": "python",
   "nbconvert_exporter": "python",
   "pygments_lexer": "ipython3",
   "version": "3.9.6 (tags/v3.9.6:db3ff76, Jun 28 2021, 15:26:21) [MSC v.1929 64 bit (AMD64)]"
  },
  "orig_nbformat": 4,
  "vscode": {
   "interpreter": {
    "hash": "52c10e8b13490eca25ec6883dec9a8c5244893d30446aafba57cd751b3f1e8d2"
   }
  }
 },
 "nbformat": 4,
 "nbformat_minor": 2
}
