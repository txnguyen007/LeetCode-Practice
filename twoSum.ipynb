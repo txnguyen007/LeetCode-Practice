{
 "cells": [
  {
   "attachments": {},
   "cell_type": "markdown",
   "metadata": {},
   "source": [
    "#### Two Sum \n",
    "Given an array of integers nums and an integer target, return indices of the two numbers such that they add up to target.\n",
    "\n",
    "You may assume that each input would have exactly one solution, and you may not use the same element twice.\n",
    "\n",
    "You can return the answer in any order."
   ]
  },
  {
   "cell_type": "code",
   "execution_count": null,
   "metadata": {},
   "outputs": [],
   "source": [
    "def twoSum(nums: List[int], target: int) -> List[int]:\n",
    "        hash_dict = {}\n",
    "        for idx, val in enumerate(nums):\n",
    "            remainder = target - val \n",
    "            if remainder in hash_dict.keys():\n",
    "                return [idx, hash_dict[remainder]]\n",
    "            else: \n",
    "                hash_dict[val] = idx"
   ]
  },
  {
   "cell_type": "code",
   "execution_count": null,
   "metadata": {},
   "outputs": [],
   "source": [
    "# Test 1 \n",
    "num_list = [2,7,11,15]\n",
    "target = 9\n",
    "twoSum(num_list, 9)"
   ]
  },
  {
   "cell_type": "code",
   "execution_count": null,
   "metadata": {},
   "outputs": [],
   "source": [
    "# Test 2 \n",
    "num_list = [3,2,4]\n",
    "target = 6\n",
    "twoSum(num_list, 6)"
   ]
  }
 ],
 "metadata": {
  "kernelspec": {
   "display_name": "Python 3",
   "language": "python",
   "name": "python3"
  },
  "language_info": {
   "name": "python",
   "version": "3.9.6 (tags/v3.9.6:db3ff76, Jun 28 2021, 15:26:21) [MSC v.1929 64 bit (AMD64)]"
  },
  "orig_nbformat": 4,
  "vscode": {
   "interpreter": {
    "hash": "52c10e8b13490eca25ec6883dec9a8c5244893d30446aafba57cd751b3f1e8d2"
   }
  }
 },
 "nbformat": 4,
 "nbformat_minor": 2
}
