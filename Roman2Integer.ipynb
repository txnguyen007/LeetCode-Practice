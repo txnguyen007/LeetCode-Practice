{
 "cells": [
  {
   "attachments": {},
   "cell_type": "markdown",
   "metadata": {},
   "source": [
    "### Roman To Integer\n",
    "Roman numerals are represented by seven different symbols: I, V, X, L, C, D and M."
   ]
  },
  {
   "cell_type": "code",
   "execution_count": 3,
   "metadata": {},
   "outputs": [],
   "source": [
    " def roman2Int(s: str) -> int:\n",
    "    roman2val = {'I':[1,'NA'],\n",
    "                    'V':[5,'I'],\n",
    "                    'X':[10,'I'],\n",
    "                    'L':[50,'X'],\n",
    "                    'C':[100,'X'],\n",
    "                    'D':[500,'C'],\n",
    "                    'M':[1000,'C'],\n",
    "                    'O':[0,'NA']\n",
    "            }\n",
    "    res = 0\n",
    "    remainder = 0\n",
    "    for L1, L2 in zip(s[:],s[1:]+'O'):\n",
    "        if roman2val[L2][1] == L1:\n",
    "            res += roman2val[L2][0] - roman2val[L1][0]\n",
    "            remainder = roman2val[L2][0]\n",
    "        else:\n",
    "            res += roman2val[L1][0] - remainder\n",
    "            remainder = 0\n",
    "    return res"
   ]
  },
  {
   "cell_type": "code",
   "execution_count": 4,
   "metadata": {},
   "outputs": [
    {
     "data": {
      "text/plain": [
       "1994"
      ]
     },
     "execution_count": 4,
     "metadata": {},
     "output_type": "execute_result"
    }
   ],
   "source": [
    "# Test 1 \n",
    "s = \"MCMXCIV\"\n",
    "roman2Int(s)"
   ]
  },
  {
   "cell_type": "code",
   "execution_count": 7,
   "metadata": {},
   "outputs": [
    {
     "data": {
      "text/plain": [
       "58"
      ]
     },
     "execution_count": 7,
     "metadata": {},
     "output_type": "execute_result"
    }
   ],
   "source": [
    "# Test 2 \n",
    "s = \"LVIII\"\n",
    "roman2Int(s)"
   ]
  }
 ],
 "metadata": {
  "kernelspec": {
   "display_name": "Python 3",
   "language": "python",
   "name": "python3"
  },
  "language_info": {
   "codemirror_mode": {
    "name": "ipython",
    "version": 3
   },
   "file_extension": ".py",
   "mimetype": "text/x-python",
   "name": "python",
   "nbconvert_exporter": "python",
   "pygments_lexer": "ipython3",
   "version": "3.9.6"
  },
  "orig_nbformat": 4,
  "vscode": {
   "interpreter": {
    "hash": "52c10e8b13490eca25ec6883dec9a8c5244893d30446aafba57cd751b3f1e8d2"
   }
  }
 },
 "nbformat": 4,
 "nbformat_minor": 2
}
